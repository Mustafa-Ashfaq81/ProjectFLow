{
 "cells": [
  {
   "cell_type": "code",
   "execution_count": 1,
   "metadata": {},
   "outputs": [
    {
     "name": "stderr",
     "output_type": "stream",
     "text": [
      "UsageError: Line magic function `%pip` not found.\n"
     ]
    }
   ],
   "source": [
    "%pip install selenium"
   ]
  },
  {
   "cell_type": "code",
   "execution_count": null,
   "metadata": {},
   "outputs": [
    {
     "ename": "",
     "evalue": "",
     "output_type": "error",
     "traceback": [
      "\u001b[1;31mRunning cells with '/usr/local/bin/python' requires the ipykernel package.\n",
      "\u001b[1;31mRun the following command to install 'ipykernel' into the Python environment. \n",
      "\u001b[1;31mCommand: '/usr/local/bin/python -m pip install ipykernel -U --user --force-reinstall'"
     ]
    }
   ],
   "source": [
    "\n",
    "\n",
    "    # http://localhost:50012\n",
    "\n",
    "from selenium import webdriver\n",
    "from selenium.webdriver.chrome.service import Service\n",
    "from selenium.webdriver.common.by import By\n",
    "from selenium.webdriver.support.ui import WebDriverWait\n",
    "from selenium.webdriver.support import expected_conditions as EC\n",
    "\n",
    "service = Service('/Users/essaarshad/Desktop/LUMS/Sem 6/SEPROJ2/SE_PROJECT123/SE-PROJECT/my_app/Selenium/chromedriver')\n",
    "driver = webdriver.Chrome(service=service)\n",
    "try:\n",
    "    driver.get(\"http://localhost:54394\")  # URL of your Flutter web app\n",
    "\n",
    "    # Example: Wait for and fill in the email field\n",
    "    WebDriverWait(driver, 10).until(EC.element_to_be_clickable((By.ID, 'email_field_id'))).send_keys('test@example.com')\n",
    "\n",
    "    # Example: Wait for and fill in the password field\n",
    "    WebDriverWait(driver, 10).until(EC.element_to_be_clickable((By.ID, 'password_field_id'))).send_keys('password123')\n",
    "\n",
    "    # Example: Wait for and click the login button\n",
    "    WebDriverWait(driver, 10).until(EC.element_to_be_clickable((By.ID, 'login_button_id'))).click()\n",
    "\n",
    "\n",
    "\n",
    "finally:\n",
    "    driver.quit()\n"
   ]
  }
 ],
 "metadata": {
  "kernelspec": {
   "display_name": "Python 3",
   "language": "python",
   "name": "python3"
  },
  "language_info": {
   "codemirror_mode": {
    "name": "ipython",
    "version": 2
   },
   "file_extension": ".py",
   "mimetype": "text/x-python",
   "name": "python",
   "nbconvert_exporter": "python",
   "pygments_lexer": "ipython2",
   "version": "2.7.18"
  }
 },
 "nbformat": 4,
 "nbformat_minor": 2
}
